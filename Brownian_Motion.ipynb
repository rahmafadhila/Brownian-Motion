{
  "nbformat": 4,
  "nbformat_minor": 0,
  "metadata": {
    "kernelspec": {
      "display_name": "Python 3",
      "language": "python",
      "name": "python3"
    },
    "language_info": {
      "codemirror_mode": {
        "name": "ipython",
        "version": 3
      },
      "file_extension": ".py",
      "mimetype": "text/x-python",
      "name": "python",
      "nbconvert_exporter": "python",
      "pygments_lexer": "ipython3",
      "version": "3.6.9"
    },
    "colab": {
      "provenance": []
    }
  },
  "cells": [
    {
      "cell_type": "code",
      "metadata": {
        "id": "GFnALzRDDifz"
      },
      "source": [
        "import numpy as np\n",
        "import pandas as pd\n",
        "import matplotlib.pyplot as plt\n",
        "%matplotlib inline\n",
        "import random"
      ],
      "execution_count": null,
      "outputs": []
    },
    {
      "cell_type": "code",
      "metadata": {
        "id": "I1vM3WXSDif1"
      },
      "source": [
        "num_of_iter = 100\n",
        "num_of_particles = 9"
      ],
      "execution_count": null,
      "outputs": []
    },
    {
      "cell_type": "code",
      "metadata": {
        "id": "HntOT1U_Dif1"
      },
      "source": [
        "# Inisiasi posisi\n",
        "x = []\n",
        "y = []\n",
        "count = 0\n",
        "\n",
        "while count <= num_of_particles:\n",
        "  for i in range(8):\n",
        "    for j in range(8):\n",
        "      x.append(j+8)\n",
        "      y.append(i+8)\n",
        "      count += 1            \n",
        "x = x[:num_of_particles]\n",
        "y = y[:num_of_particles]\n",
        "\n",
        "# Ubah kedalam dataframe\n",
        "df_x = pd.DataFrame(x)\n",
        "df_y = pd.DataFrame(y)"
      ],
      "execution_count": null,
      "outputs": []
    },
    {
      "cell_type": "code",
      "metadata": {
        "id": "bxjIputmDif3"
      },
      "source": [
        "for i in range(num_of_iter):\n",
        "  tempo_x = []\n",
        "  tempo_y = []\n",
        "  for j in range(num_of_particles):\n",
        "    x = df_x.iloc[j, i]\n",
        "    y = df_y.iloc[j, i]\n",
        "    rand = np.random.rand() # Generate bilangan 0 dan 1\n",
        "\n",
        "    if (rand <= 0.25):\n",
        "      x += 1\n",
        "    elif ((rand > 0.25) and (rand <= 0.5)):\n",
        "      x -= 1\n",
        "    elif ((rand > 0.5) and (rand <= 0.75)):\n",
        "      y += 1\n",
        "    else:\n",
        "      y -= 1\n",
        "    tempo_x.append(x)\n",
        "    tempo_y.append(y)\n",
        "\n",
        "  df_x[(i+1)] = tempo_x\n",
        "  df_y[(i+1)] = tempo_y"
      ],
      "execution_count": null,
      "outputs": []
    },
    {
      "cell_type": "code",
      "metadata": {
        "colab": {
          "base_uri": "https://localhost:8080/",
          "height": 265
        },
        "id": "d4BTnbikDif4",
        "outputId": "0facd9c8-8dd9-4b5b-ccc5-8e14a5942788"
      },
      "source": [
        "list_color = ['red', 'blue', 'cyan', 'magenta', 'yellow', 'green', 'coral', 'cornflowerblue', 'purple']\n",
        "\n",
        "for i in range(num_of_particles):\n",
        "  # Plot line\n",
        "  line_x = df_x.iloc[i,:]\n",
        "  line_y = df_y.iloc[i,:]\n",
        "  plt.plot(line_x, line_y, color=list_color[i%9])\n",
        "\n",
        "  # Plot titik\n",
        "  titik_x = [df_x.iloc[i,0], df_x.iloc[i,-1]]\n",
        "  titik_y = [df_y.iloc[i,0], df_y.iloc[i,-1]]\n",
        "  plt.scatter(titik_x, titik_y, color=list_color[i%9])\n",
        "plt.show()"
      ],
      "execution_count": null,
      "outputs": [
        {
          "output_type": "display_data",
          "data": {
            "image/png": "[encoded data removed]",
            "text/plain": [
              "<Figure size 432x288 with 1 Axes>"
            ]
          },
          "metadata": {
            "tags": [],
            "needs_background": "light"
          }
        }
      ]
    },
    {
      "cell_type": "code",
      "metadata": {
        "id": "nBwU3o9tDif7"
      },
      "source": [
        "# Calculate Jarak\n",
        "x_init = df_x.iloc[:,0]\n",
        "x_fin = df_x.iloc[:,-1]\n",
        "y_init = df_y.iloc[:,0]\n",
        "y_fin = df_y.iloc[:,-1]\n",
        "dist_list = []\n",
        "for i in range(num_of_particles):\n",
        "    dx = x_fin[i] - x_init[i]\n",
        "    dy = y_fin[i] - y_init[i]\n",
        "    dist = np.sqrt(dx**2 + dy**2)\n",
        "    dist_list.append(dist)"
      ],
      "execution_count": null,
      "outputs": []
    },
    {
      "cell_type": "code",
      "metadata": {
        "colab": {
          "base_uri": "https://localhost:8080/"
        },
        "id": "3a2e8qBBDif8",
        "outputId": "b316e157-607d-4e7a-c06f-dd907abbd1f5"
      },
      "source": [
        "print('Jarak Maksimum :', (max(dist_list)))\n",
        "print('Jarak Minimum :', (min(dist_list)))\n",
        "print('Jarak Rata-Rata :', (np.average(dist_list)))"
      ],
      "execution_count": null,
      "outputs": [
        {
          "output_type": "stream",
          "text": [
            "Jarak Maksimum : 13.416407864998739\n",
            "Jarak Minimum : 3.1622776601683795\n",
            "Jarak Rata-Rata : 8.550159087948508\n"
          ],
          "name": "stdout"
        }
      ]
    }
  ]
}